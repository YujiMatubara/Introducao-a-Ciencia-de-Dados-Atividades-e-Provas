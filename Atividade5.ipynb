{
  "nbformat": 4,
  "nbformat_minor": 0,
  "metadata": {
    "colab": {
      "provenance": []
    },
    "kernelspec": {
      "name": "python3",
      "display_name": "Python 3"
    },
    "language_info": {
      "name": "python"
    }
  },
  "cells": [
    {
      "cell_type": "markdown",
      "source": [
        "# SCC-ICMC-USP - 2º Semestre de 2023\n",
        "## SCC0275 - Introdução à Ciência de Dados\n",
        "### Professora: Roseli A. F. Romero\n",
        "### Monitor: Roseval Malaquias Jr\n",
        "\n",
        "### **Exercício 5**\n",
        "\n",
        "**Número do Grupo:**\n",
        "\n",
        "**Alunos:**\n",
        "Lucas Yuji Matubara\n",
        "\n",
        "Nesta atividade, nosso objetivo é exercitar os seguintes conceitos:\n",
        "- Manuseio e exploração de datasets utilizando a biblioteca `pandas`;\n",
        "- Transformação de variáveis utilizando a biblioteca `scikit-learn`;\n",
        "- Análise e tratamento de desbalanceamento de datasets.\n",
        "\n",
        "---\n",
        "\n",
        "Para os exercícios de **1** a **5**, utilizaremos o dataset **creditcard_sampled.csv**. A célula de código a seguir realizará o download deste dataset para o ambiente virtual do Google Colab.\n",
        "\n",
        "> **Consulte o material complementar para a realização desta atividade!**\n",
        "- UndersamplingOversampling-Exemplo.ipynb\n"
      ],
      "metadata": {
        "id": "c1Odjh8U5klx"
      }
    },
    {
      "cell_type": "code",
      "execution_count": 115,
      "metadata": {
        "colab": {
          "base_uri": "https://localhost:8080/"
        },
        "id": "onP1Ii8j5hc6",
        "outputId": "39d8fd8a-666e-4147-f222-6ee4cdfba11c"
      },
      "outputs": [
        {
          "output_type": "stream",
          "name": "stdout",
          "text": [
            "--2023-10-05 18:49:25--  https://drive.google.com/uc?export=download&id=1bLUhD8rgrPtSo5I49wI7LzxDkVzzowJw\n",
            "Resolving drive.google.com (drive.google.com)... 142.251.120.100, 142.251.120.101, 142.251.120.139, ...\n",
            "Connecting to drive.google.com (drive.google.com)|142.251.120.100|:443... connected.\n",
            "HTTP request sent, awaiting response... 303 See Other\n",
            "Location: https://doc-0s-a0-docs.googleusercontent.com/docs/securesc/ha0ro937gcuc7l7deffksulhg5h7mbp1/a524skblqg6prujm2c2jqgib1f1p6td9/1696531725000/17263126637575785733/*/1bLUhD8rgrPtSo5I49wI7LzxDkVzzowJw?e=download&uuid=2eda33c4-64d5-433e-8b2b-f4e4a8599d22 [following]\n",
            "Warning: wildcards not supported in HTTP.\n",
            "--2023-10-05 18:49:25--  https://doc-0s-a0-docs.googleusercontent.com/docs/securesc/ha0ro937gcuc7l7deffksulhg5h7mbp1/a524skblqg6prujm2c2jqgib1f1p6td9/1696531725000/17263126637575785733/*/1bLUhD8rgrPtSo5I49wI7LzxDkVzzowJw?e=download&uuid=2eda33c4-64d5-433e-8b2b-f4e4a8599d22\n",
            "Resolving doc-0s-a0-docs.googleusercontent.com (doc-0s-a0-docs.googleusercontent.com)... 172.253.119.132, 2607:f8b0:4001:c23::84\n",
            "Connecting to doc-0s-a0-docs.googleusercontent.com (doc-0s-a0-docs.googleusercontent.com)|172.253.119.132|:443... connected.\n",
            "HTTP request sent, awaiting response... 200 OK\n",
            "Length: 5805804 (5.5M) [text/csv]\n",
            "Saving to: ‘creditcard_sampled.csv’\n",
            "\n",
            "creditcard_sampled. 100%[===================>]   5.54M  --.-KB/s    in 0.03s   \n",
            "\n",
            "2023-10-05 18:49:25 (171 MB/s) - ‘creditcard_sampled.csv’ saved [5805804/5805804]\n",
            "\n"
          ]
        }
      ],
      "source": [
        "# Download do dataset para o ambiente virtual.\n",
        "!wget -O creditcard_sampled.csv \"https://drive.google.com/uc?export=download&id=1bLUhD8rgrPtSo5I49wI7LzxDkVzzowJw\""
      ]
    },
    {
      "cell_type": "markdown",
      "source": [
        "## *Dataset* **creditcard_sampled.csv**"
      ],
      "metadata": {
        "id": "g0bHefYy5qBs"
      }
    },
    {
      "cell_type": "markdown",
      "source": [
        "---\n",
        "### Questão 01.\n",
        "\n",
        "Carregue o *dataset* **creditcard_sampled.csv** (`pandas.read_csv`).\n",
        "\n",
        "- Existem valores faltantes neste *dataset*?\n",
        "\n",
        "Mostre a distribuição das classes:\n",
        "-   Via histograma\n",
        "-   Exibindo o número de ocorrências de cada classe\n",
        "\n"
      ],
      "metadata": {
        "id": "0F1cv_1S5tI-"
      }
    },
    {
      "cell_type": "code",
      "source": [
        "import numpy as np\n",
        "import pandas as pd"
      ],
      "metadata": {
        "id": "b4lahh8P5jTW"
      },
      "execution_count": 116,
      "outputs": []
    },
    {
      "cell_type": "code",
      "source": [
        "card = pd.read_csv('creditcard_sampled.csv', na_values = '?')\n",
        "card.head(5)"
      ],
      "metadata": {
        "colab": {
          "base_uri": "https://localhost:8080/",
          "height": 236
        },
        "id": "tDzXvHhk53yR",
        "outputId": "3f6fc6f6-cc34-41c6-d9e3-304418dd5c9c"
      },
      "execution_count": 117,
      "outputs": [
        {
          "output_type": "execute_result",
          "data": {
            "text/plain": [
              "   Unnamed: 0    Time        V1        V2        V3        V4        V5  \\\n",
              "0         541   406.0 -2.312227  1.951992 -1.609851  3.997906 -0.522188   \n",
              "1         623   472.0 -3.043541 -3.157307  1.088463  2.288644  1.359805   \n",
              "2        4920  4462.0 -2.303350  1.759247 -0.359745  2.330243 -0.821628   \n",
              "3        6108  6986.0 -4.397974  1.358367 -2.592844  2.679787 -1.128131   \n",
              "4        6329  7519.0  1.234235  3.019740 -4.304597  4.732795  3.624201   \n",
              "\n",
              "         V6        V7        V8  ...       V21       V22       V23       V24  \\\n",
              "0 -1.426545 -2.537387  1.391657  ...  0.517232 -0.035049 -0.465211  0.320198   \n",
              "1 -1.064823  0.325574 -0.067794  ...  0.661696  0.435477  1.375966 -0.293803   \n",
              "2 -0.075788  0.562320 -0.399147  ... -0.294166 -0.932391  0.172726 -0.087330   \n",
              "3 -1.706536 -3.496197 -0.248778  ...  0.573574  0.176968 -0.436207 -0.053502   \n",
              "4 -1.357746  1.713445 -0.496358  ... -0.379068 -0.704181 -0.656805 -1.632653   \n",
              "\n",
              "        V25       V26       V27       V28  Amount  Class  \n",
              "0  0.044519  0.177840  0.261145 -0.143276    0.00      1  \n",
              "1  0.279798 -0.145362 -0.252773  0.035764  529.00      1  \n",
              "2 -0.156114 -0.542628  0.039566 -0.153029  239.93      1  \n",
              "3  0.252405 -0.657488 -0.827136  0.849573   59.00      1  \n",
              "4  1.488901  0.566797 -0.010016  0.146793    1.00      1  \n",
              "\n",
              "[5 rows x 32 columns]"
            ],
            "text/html": [
              "\n",
              "  <div id=\"df-fcfc898a-b6a2-4b9f-8d5e-2f585df5ef55\" class=\"colab-df-container\">\n",
              "    <div>\n",
              "<style scoped>\n",
              "    .dataframe tbody tr th:only-of-type {\n",
              "        vertical-align: middle;\n",
              "    }\n",
              "\n",
              "    .dataframe tbody tr th {\n",
              "        vertical-align: top;\n",
              "    }\n",
              "\n",
              "    .dataframe thead th {\n",
              "        text-align: right;\n",
              "    }\n",
              "</style>\n",
              "<table border=\"1\" class=\"dataframe\">\n",
              "  <thead>\n",
              "    <tr style=\"text-align: right;\">\n",
              "      <th></th>\n",
              "      <th>Unnamed: 0</th>\n",
              "      <th>Time</th>\n",
              "      <th>V1</th>\n",
              "      <th>V2</th>\n",
              "      <th>V3</th>\n",
              "      <th>V4</th>\n",
              "      <th>V5</th>\n",
              "      <th>V6</th>\n",
              "      <th>V7</th>\n",
              "      <th>V8</th>\n",
              "      <th>...</th>\n",
              "      <th>V21</th>\n",
              "      <th>V22</th>\n",
              "      <th>V23</th>\n",
              "      <th>V24</th>\n",
              "      <th>V25</th>\n",
              "      <th>V26</th>\n",
              "      <th>V27</th>\n",
              "      <th>V28</th>\n",
              "      <th>Amount</th>\n",
              "      <th>Class</th>\n",
              "    </tr>\n",
              "  </thead>\n",
              "  <tbody>\n",
              "    <tr>\n",
              "      <th>0</th>\n",
              "      <td>541</td>\n",
              "      <td>406.0</td>\n",
              "      <td>-2.312227</td>\n",
              "      <td>1.951992</td>\n",
              "      <td>-1.609851</td>\n",
              "      <td>3.997906</td>\n",
              "      <td>-0.522188</td>\n",
              "      <td>-1.426545</td>\n",
              "      <td>-2.537387</td>\n",
              "      <td>1.391657</td>\n",
              "      <td>...</td>\n",
              "      <td>0.517232</td>\n",
              "      <td>-0.035049</td>\n",
              "      <td>-0.465211</td>\n",
              "      <td>0.320198</td>\n",
              "      <td>0.044519</td>\n",
              "      <td>0.177840</td>\n",
              "      <td>0.261145</td>\n",
              "      <td>-0.143276</td>\n",
              "      <td>0.00</td>\n",
              "      <td>1</td>\n",
              "    </tr>\n",
              "    <tr>\n",
              "      <th>1</th>\n",
              "      <td>623</td>\n",
              "      <td>472.0</td>\n",
              "      <td>-3.043541</td>\n",
              "      <td>-3.157307</td>\n",
              "      <td>1.088463</td>\n",
              "      <td>2.288644</td>\n",
              "      <td>1.359805</td>\n",
              "      <td>-1.064823</td>\n",
              "      <td>0.325574</td>\n",
              "      <td>-0.067794</td>\n",
              "      <td>...</td>\n",
              "      <td>0.661696</td>\n",
              "      <td>0.435477</td>\n",
              "      <td>1.375966</td>\n",
              "      <td>-0.293803</td>\n",
              "      <td>0.279798</td>\n",
              "      <td>-0.145362</td>\n",
              "      <td>-0.252773</td>\n",
              "      <td>0.035764</td>\n",
              "      <td>529.00</td>\n",
              "      <td>1</td>\n",
              "    </tr>\n",
              "    <tr>\n",
              "      <th>2</th>\n",
              "      <td>4920</td>\n",
              "      <td>4462.0</td>\n",
              "      <td>-2.303350</td>\n",
              "      <td>1.759247</td>\n",
              "      <td>-0.359745</td>\n",
              "      <td>2.330243</td>\n",
              "      <td>-0.821628</td>\n",
              "      <td>-0.075788</td>\n",
              "      <td>0.562320</td>\n",
              "      <td>-0.399147</td>\n",
              "      <td>...</td>\n",
              "      <td>-0.294166</td>\n",
              "      <td>-0.932391</td>\n",
              "      <td>0.172726</td>\n",
              "      <td>-0.087330</td>\n",
              "      <td>-0.156114</td>\n",
              "      <td>-0.542628</td>\n",
              "      <td>0.039566</td>\n",
              "      <td>-0.153029</td>\n",
              "      <td>239.93</td>\n",
              "      <td>1</td>\n",
              "    </tr>\n",
              "    <tr>\n",
              "      <th>3</th>\n",
              "      <td>6108</td>\n",
              "      <td>6986.0</td>\n",
              "      <td>-4.397974</td>\n",
              "      <td>1.358367</td>\n",
              "      <td>-2.592844</td>\n",
              "      <td>2.679787</td>\n",
              "      <td>-1.128131</td>\n",
              "      <td>-1.706536</td>\n",
              "      <td>-3.496197</td>\n",
              "      <td>-0.248778</td>\n",
              "      <td>...</td>\n",
              "      <td>0.573574</td>\n",
              "      <td>0.176968</td>\n",
              "      <td>-0.436207</td>\n",
              "      <td>-0.053502</td>\n",
              "      <td>0.252405</td>\n",
              "      <td>-0.657488</td>\n",
              "      <td>-0.827136</td>\n",
              "      <td>0.849573</td>\n",
              "      <td>59.00</td>\n",
              "      <td>1</td>\n",
              "    </tr>\n",
              "    <tr>\n",
              "      <th>4</th>\n",
              "      <td>6329</td>\n",
              "      <td>7519.0</td>\n",
              "      <td>1.234235</td>\n",
              "      <td>3.019740</td>\n",
              "      <td>-4.304597</td>\n",
              "      <td>4.732795</td>\n",
              "      <td>3.624201</td>\n",
              "      <td>-1.357746</td>\n",
              "      <td>1.713445</td>\n",
              "      <td>-0.496358</td>\n",
              "      <td>...</td>\n",
              "      <td>-0.379068</td>\n",
              "      <td>-0.704181</td>\n",
              "      <td>-0.656805</td>\n",
              "      <td>-1.632653</td>\n",
              "      <td>1.488901</td>\n",
              "      <td>0.566797</td>\n",
              "      <td>-0.010016</td>\n",
              "      <td>0.146793</td>\n",
              "      <td>1.00</td>\n",
              "      <td>1</td>\n",
              "    </tr>\n",
              "  </tbody>\n",
              "</table>\n",
              "<p>5 rows × 32 columns</p>\n",
              "</div>\n",
              "    <div class=\"colab-df-buttons\">\n",
              "\n",
              "  <div class=\"colab-df-container\">\n",
              "    <button class=\"colab-df-convert\" onclick=\"convertToInteractive('df-fcfc898a-b6a2-4b9f-8d5e-2f585df5ef55')\"\n",
              "            title=\"Convert this dataframe to an interactive table.\"\n",
              "            style=\"display:none;\">\n",
              "\n",
              "  <svg xmlns=\"http://www.w3.org/2000/svg\" height=\"24px\" viewBox=\"0 -960 960 960\">\n",
              "    <path d=\"M120-120v-720h720v720H120Zm60-500h600v-160H180v160Zm220 220h160v-160H400v160Zm0 220h160v-160H400v160ZM180-400h160v-160H180v160Zm440 0h160v-160H620v160ZM180-180h160v-160H180v160Zm440 0h160v-160H620v160Z\"/>\n",
              "  </svg>\n",
              "    </button>\n",
              "\n",
              "  <style>\n",
              "    .colab-df-container {\n",
              "      display:flex;\n",
              "      gap: 12px;\n",
              "    }\n",
              "\n",
              "    .colab-df-convert {\n",
              "      background-color: #E8F0FE;\n",
              "      border: none;\n",
              "      border-radius: 50%;\n",
              "      cursor: pointer;\n",
              "      display: none;\n",
              "      fill: #1967D2;\n",
              "      height: 32px;\n",
              "      padding: 0 0 0 0;\n",
              "      width: 32px;\n",
              "    }\n",
              "\n",
              "    .colab-df-convert:hover {\n",
              "      background-color: #E2EBFA;\n",
              "      box-shadow: 0px 1px 2px rgba(60, 64, 67, 0.3), 0px 1px 3px 1px rgba(60, 64, 67, 0.15);\n",
              "      fill: #174EA6;\n",
              "    }\n",
              "\n",
              "    .colab-df-buttons div {\n",
              "      margin-bottom: 4px;\n",
              "    }\n",
              "\n",
              "    [theme=dark] .colab-df-convert {\n",
              "      background-color: #3B4455;\n",
              "      fill: #D2E3FC;\n",
              "    }\n",
              "\n",
              "    [theme=dark] .colab-df-convert:hover {\n",
              "      background-color: #434B5C;\n",
              "      box-shadow: 0px 1px 3px 1px rgba(0, 0, 0, 0.15);\n",
              "      filter: drop-shadow(0px 1px 2px rgba(0, 0, 0, 0.3));\n",
              "      fill: #FFFFFF;\n",
              "    }\n",
              "  </style>\n",
              "\n",
              "    <script>\n",
              "      const buttonEl =\n",
              "        document.querySelector('#df-fcfc898a-b6a2-4b9f-8d5e-2f585df5ef55 button.colab-df-convert');\n",
              "      buttonEl.style.display =\n",
              "        google.colab.kernel.accessAllowed ? 'block' : 'none';\n",
              "\n",
              "      async function convertToInteractive(key) {\n",
              "        const element = document.querySelector('#df-fcfc898a-b6a2-4b9f-8d5e-2f585df5ef55');\n",
              "        const dataTable =\n",
              "          await google.colab.kernel.invokeFunction('convertToInteractive',\n",
              "                                                    [key], {});\n",
              "        if (!dataTable) return;\n",
              "\n",
              "        const docLinkHtml = 'Like what you see? Visit the ' +\n",
              "          '<a target=\"_blank\" href=https://colab.research.google.com/notebooks/data_table.ipynb>data table notebook</a>'\n",
              "          + ' to learn more about interactive tables.';\n",
              "        element.innerHTML = '';\n",
              "        dataTable['output_type'] = 'display_data';\n",
              "        await google.colab.output.renderOutput(dataTable, element);\n",
              "        const docLink = document.createElement('div');\n",
              "        docLink.innerHTML = docLinkHtml;\n",
              "        element.appendChild(docLink);\n",
              "      }\n",
              "    </script>\n",
              "  </div>\n",
              "\n",
              "\n",
              "<div id=\"df-87a2beef-356e-4029-bf5a-b97ea4bb7133\">\n",
              "  <button class=\"colab-df-quickchart\" onclick=\"quickchart('df-87a2beef-356e-4029-bf5a-b97ea4bb7133')\"\n",
              "            title=\"Suggest charts.\"\n",
              "            style=\"display:none;\">\n",
              "\n",
              "<svg xmlns=\"http://www.w3.org/2000/svg\" height=\"24px\"viewBox=\"0 0 24 24\"\n",
              "     width=\"24px\">\n",
              "    <g>\n",
              "        <path d=\"M19 3H5c-1.1 0-2 .9-2 2v14c0 1.1.9 2 2 2h14c1.1 0 2-.9 2-2V5c0-1.1-.9-2-2-2zM9 17H7v-7h2v7zm4 0h-2V7h2v10zm4 0h-2v-4h2v4z\"/>\n",
              "    </g>\n",
              "</svg>\n",
              "  </button>\n",
              "\n",
              "<style>\n",
              "  .colab-df-quickchart {\n",
              "      --bg-color: #E8F0FE;\n",
              "      --fill-color: #1967D2;\n",
              "      --hover-bg-color: #E2EBFA;\n",
              "      --hover-fill-color: #174EA6;\n",
              "      --disabled-fill-color: #AAA;\n",
              "      --disabled-bg-color: #DDD;\n",
              "  }\n",
              "\n",
              "  [theme=dark] .colab-df-quickchart {\n",
              "      --bg-color: #3B4455;\n",
              "      --fill-color: #D2E3FC;\n",
              "      --hover-bg-color: #434B5C;\n",
              "      --hover-fill-color: #FFFFFF;\n",
              "      --disabled-bg-color: #3B4455;\n",
              "      --disabled-fill-color: #666;\n",
              "  }\n",
              "\n",
              "  .colab-df-quickchart {\n",
              "    background-color: var(--bg-color);\n",
              "    border: none;\n",
              "    border-radius: 50%;\n",
              "    cursor: pointer;\n",
              "    display: none;\n",
              "    fill: var(--fill-color);\n",
              "    height: 32px;\n",
              "    padding: 0;\n",
              "    width: 32px;\n",
              "  }\n",
              "\n",
              "  .colab-df-quickchart:hover {\n",
              "    background-color: var(--hover-bg-color);\n",
              "    box-shadow: 0 1px 2px rgba(60, 64, 67, 0.3), 0 1px 3px 1px rgba(60, 64, 67, 0.15);\n",
              "    fill: var(--button-hover-fill-color);\n",
              "  }\n",
              "\n",
              "  .colab-df-quickchart-complete:disabled,\n",
              "  .colab-df-quickchart-complete:disabled:hover {\n",
              "    background-color: var(--disabled-bg-color);\n",
              "    fill: var(--disabled-fill-color);\n",
              "    box-shadow: none;\n",
              "  }\n",
              "\n",
              "  .colab-df-spinner {\n",
              "    border: 2px solid var(--fill-color);\n",
              "    border-color: transparent;\n",
              "    border-bottom-color: var(--fill-color);\n",
              "    animation:\n",
              "      spin 1s steps(1) infinite;\n",
              "  }\n",
              "\n",
              "  @keyframes spin {\n",
              "    0% {\n",
              "      border-color: transparent;\n",
              "      border-bottom-color: var(--fill-color);\n",
              "      border-left-color: var(--fill-color);\n",
              "    }\n",
              "    20% {\n",
              "      border-color: transparent;\n",
              "      border-left-color: var(--fill-color);\n",
              "      border-top-color: var(--fill-color);\n",
              "    }\n",
              "    30% {\n",
              "      border-color: transparent;\n",
              "      border-left-color: var(--fill-color);\n",
              "      border-top-color: var(--fill-color);\n",
              "      border-right-color: var(--fill-color);\n",
              "    }\n",
              "    40% {\n",
              "      border-color: transparent;\n",
              "      border-right-color: var(--fill-color);\n",
              "      border-top-color: var(--fill-color);\n",
              "    }\n",
              "    60% {\n",
              "      border-color: transparent;\n",
              "      border-right-color: var(--fill-color);\n",
              "    }\n",
              "    80% {\n",
              "      border-color: transparent;\n",
              "      border-right-color: var(--fill-color);\n",
              "      border-bottom-color: var(--fill-color);\n",
              "    }\n",
              "    90% {\n",
              "      border-color: transparent;\n",
              "      border-bottom-color: var(--fill-color);\n",
              "    }\n",
              "  }\n",
              "</style>\n",
              "\n",
              "  <script>\n",
              "    async function quickchart(key) {\n",
              "      const quickchartButtonEl =\n",
              "        document.querySelector('#' + key + ' button');\n",
              "      quickchartButtonEl.disabled = true;  // To prevent multiple clicks.\n",
              "      quickchartButtonEl.classList.add('colab-df-spinner');\n",
              "      try {\n",
              "        const charts = await google.colab.kernel.invokeFunction(\n",
              "            'suggestCharts', [key], {});\n",
              "      } catch (error) {\n",
              "        console.error('Error during call to suggestCharts:', error);\n",
              "      }\n",
              "      quickchartButtonEl.classList.remove('colab-df-spinner');\n",
              "      quickchartButtonEl.classList.add('colab-df-quickchart-complete');\n",
              "    }\n",
              "    (() => {\n",
              "      let quickchartButtonEl =\n",
              "        document.querySelector('#df-87a2beef-356e-4029-bf5a-b97ea4bb7133 button');\n",
              "      quickchartButtonEl.style.display =\n",
              "        google.colab.kernel.accessAllowed ? 'block' : 'none';\n",
              "    })();\n",
              "  </script>\n",
              "</div>\n",
              "    </div>\n",
              "  </div>\n"
            ]
          },
          "metadata": {},
          "execution_count": 117
        }
      ]
    },
    {
      "cell_type": "code",
      "source": [
        "card.isna().sum()"
      ],
      "metadata": {
        "colab": {
          "base_uri": "https://localhost:8080/"
        },
        "id": "c0iBkiUU6Ab5",
        "outputId": "90daacd1-aed8-46f5-8fd0-fbecef626765"
      },
      "execution_count": 118,
      "outputs": [
        {
          "output_type": "execute_result",
          "data": {
            "text/plain": [
              "Unnamed: 0    0\n",
              "Time          0\n",
              "V1            0\n",
              "V2            0\n",
              "V3            0\n",
              "V4            0\n",
              "V5            0\n",
              "V6            0\n",
              "V7            0\n",
              "V8            0\n",
              "V9            0\n",
              "V10           0\n",
              "V11           0\n",
              "V12           0\n",
              "V13           0\n",
              "V14           0\n",
              "V15           0\n",
              "V16           0\n",
              "V17           0\n",
              "V18           0\n",
              "V19           0\n",
              "V20           0\n",
              "V21           0\n",
              "V22           0\n",
              "V23           0\n",
              "V24           0\n",
              "V25           0\n",
              "V26           0\n",
              "V27           0\n",
              "V28           0\n",
              "Amount        0\n",
              "Class         0\n",
              "dtype: int64"
            ]
          },
          "metadata": {},
          "execution_count": 118
        }
      ]
    },
    {
      "cell_type": "code",
      "source": [
        "card.dtypes"
      ],
      "metadata": {
        "colab": {
          "base_uri": "https://localhost:8080/"
        },
        "id": "UXXWQSKT7jVX",
        "outputId": "e1da57e4-6e4c-416d-e5eb-d5884182a289"
      },
      "execution_count": 119,
      "outputs": [
        {
          "output_type": "execute_result",
          "data": {
            "text/plain": [
              "Unnamed: 0      int64\n",
              "Time          float64\n",
              "V1            float64\n",
              "V2            float64\n",
              "V3            float64\n",
              "V4            float64\n",
              "V5            float64\n",
              "V6            float64\n",
              "V7            float64\n",
              "V8            float64\n",
              "V9            float64\n",
              "V10           float64\n",
              "V11           float64\n",
              "V12           float64\n",
              "V13           float64\n",
              "V14           float64\n",
              "V15           float64\n",
              "V16           float64\n",
              "V17           float64\n",
              "V18           float64\n",
              "V19           float64\n",
              "V20           float64\n",
              "V21           float64\n",
              "V22           float64\n",
              "V23           float64\n",
              "V24           float64\n",
              "V25           float64\n",
              "V26           float64\n",
              "V27           float64\n",
              "V28           float64\n",
              "Amount        float64\n",
              "Class           int64\n",
              "dtype: object"
            ]
          },
          "metadata": {},
          "execution_count": 119
        }
      ]
    },
    {
      "cell_type": "code",
      "source": [
        "card['Class'].hist()"
      ],
      "metadata": {
        "colab": {
          "base_uri": "https://localhost:8080/",
          "height": 447
        },
        "id": "mIkj7ikQ6NIA",
        "outputId": "f25071dc-29ce-4d4c-c11c-0cd7f77217a1"
      },
      "execution_count": 120,
      "outputs": [
        {
          "output_type": "execute_result",
          "data": {
            "text/plain": [
              "<Axes: >"
            ]
          },
          "metadata": {},
          "execution_count": 120
        },
        {
          "output_type": "display_data",
          "data": {
            "text/plain": [
              "<Figure size 640x480 with 1 Axes>"
            ],
            "image/png": "[encoded data removed]"
          },
          "metadata": {}
        }
      ]
    },
    {
      "cell_type": "code",
      "source": [
        "count = card['Class'].value_counts()\n",
        "count"
      ],
      "metadata": {
        "colab": {
          "base_uri": "https://localhost:8080/"
        },
        "id": "rDtmZqkk74Lx",
        "outputId": "6f5b6ace-8510-4441-962c-4e7adfdc0011"
      },
      "execution_count": 121,
      "outputs": [
        {
          "output_type": "execute_result",
          "data": {
            "text/plain": [
              "0    10000\n",
              "1      492\n",
              "Name: Class, dtype: int64"
            ]
          },
          "metadata": {},
          "execution_count": 121
        }
      ]
    },
    {
      "cell_type": "markdown",
      "source": [
        "---\n",
        "\n",
        "### Questão 02.\n",
        "\n",
        "Separe o conjunto de dados em variáveis de entrada e variável alvo."
      ],
      "metadata": {
        "id": "-uSQoFYA8WHp"
      }
    },
    {
      "cell_type": "code",
      "source": [
        "X = card.drop('Class', axis=1)  #entrada\n",
        "y = card[['Class']] #alvo"
      ],
      "metadata": {
        "id": "xA8cfZM58Wmy"
      },
      "execution_count": 122,
      "outputs": []
    },
    {
      "cell_type": "markdown",
      "source": [
        "---\n",
        "\n",
        "### Questão 03.\n",
        "\n",
        "Crie uma função que aplique a técnica de subamostragem aleatória nesse conjunto de dados.\n",
        "- Sua função deve receber como entrada a base normalizada e as classes.\n",
        "\n",
        "- Sua função e deve retornar um novo conjunto onde todas as classes devem ter o número de ocorrências da classe com **menor representatividade no conjunto de dados inicial** e um array com as respectivas labels.\n",
        "- Mostre o resultado plotando um histograma da distribuição resultante classes"
      ],
      "metadata": {
        "id": "zq3tpUbN9Ahw"
      }
    },
    {
      "cell_type": "code",
      "source": [
        "from sklearn.utils import resample"
      ],
      "metadata": {
        "id": "cEm9ofB__FE0"
      },
      "execution_count": 123,
      "outputs": []
    },
    {
      "cell_type": "code",
      "source": [
        "classe_majoritaria = card[card['Class'] == 0]\n",
        "classe_minoritaria = card[card['Class'] == 1]\n",
        "\n",
        "subamostragem = resample(classe_majoritaria,\n",
        "                         replace=False,\n",
        "                         n_samples=len(classe_minoritaria))\n",
        "\n",
        "subamostragem = pd.concat([subamostragem, classe_minoritaria])\n",
        "\n",
        "subamostragem['Class'].hist()"
      ],
      "metadata": {
        "colab": {
          "base_uri": "https://localhost:8080/",
          "height": 447
        },
        "id": "kvC4nUSx_yPl",
        "outputId": "183a431d-acdd-4b84-be08-28a631e25888"
      },
      "execution_count": 124,
      "outputs": [
        {
          "output_type": "execute_result",
          "data": {
            "text/plain": [
              "<Axes: >"
            ]
          },
          "metadata": {},
          "execution_count": 124
        },
        {
          "output_type": "display_data",
          "data": {
            "text/plain": [
              "<Figure size 640x480 with 1 Axes>"
            ],
            "image/png": "[encoded data removed]"
          },
          "metadata": {}
        }
      ]
    },
    {
      "cell_type": "markdown",
      "source": [
        "---\n",
        "\n",
        "### Questão 04.\n",
        "\n",
        "Crie uma função que aplique a técnica de superamostragem aleatória nesse conjunto de dados.\n",
        "\n",
        "- Sua função deve receber como entrada a base normalizada e as classes.\n",
        "\n",
        "- Sua função deve receber como entrada a base original e retornar um novo conjunto de dados onde todas as classes devem ter o número de ocorrências da classe com **maior representatividade no conjunto de dados inicial** e um array com as respectivas labels.\n",
        "- Mostre o resultado plotando um histograma da distribuição resultante classes"
      ],
      "metadata": {
        "id": "OZ8h48EICTyy"
      }
    },
    {
      "cell_type": "code",
      "source": [
        "from imblearn.over_sampling import RandomOverSampler"
      ],
      "metadata": {
        "id": "5XK3QezGEC0y"
      },
      "execution_count": 125,
      "outputs": []
    },
    {
      "cell_type": "code",
      "source": [
        "imputer = RandomOverSampler(sampling_strategy='auto')\n",
        "X_resampled, y_resampled = imputer.fit_resample(X, y)\n",
        "\n",
        "superamostragem = y_resampled\n",
        "superamostragem.hist()"
      ],
      "metadata": {
        "colab": {
          "base_uri": "https://localhost:8080/",
          "height": 469
        },
        "id": "h6ZDxS3bCUYJ",
        "outputId": "5b22e563-df6f-41e4-f2c5-c6b328addf11"
      },
      "execution_count": 126,
      "outputs": [
        {
          "output_type": "execute_result",
          "data": {
            "text/plain": [
              "array([[<Axes: title={'center': 'Class'}>]], dtype=object)"
            ]
          },
          "metadata": {},
          "execution_count": 126
        },
        {
          "output_type": "display_data",
          "data": {
            "text/plain": [
              "<Figure size 640x480 with 1 Axes>"
            ],
            "image/png": "[encoded data removed]"
          },
          "metadata": {}
        }
      ]
    },
    {
      "cell_type": "markdown",
      "source": [
        "---\n",
        "\n",
        "### Questão 05.\n",
        "\n",
        "Crie uma função que utilize técnicas de subamostragem e superamostragem nesse conjunto de dados para balancear o número de exemplos de cada classe.\n",
        "\n",
        "- Sua função deve receber como entrada a base normalizada e as classes.\n",
        "- Sua função deve receber como entrada a base original e retornar uma nova base onde todas as classes devem ter o número de ocorrências **igual à $\\frac{tamanho\\_dataset}{3}$** e um array com as respectivas labels.\n",
        "- Mostre o resultado plotando um histograma da distribuição resultante classes"
      ],
      "metadata": {
        "id": "ZJNDK9feFsbd"
      }
    },
    {
      "cell_type": "code",
      "source": [
        "card['Class'].count() / 3"
      ],
      "metadata": {
        "colab": {
          "base_uri": "https://localhost:8080/"
        },
        "id": "5GEmFJSQFtn6",
        "outputId": "e4c305bf-59bf-49f8-b9cd-62d615935d09"
      },
      "execution_count": 127,
      "outputs": [
        {
          "output_type": "execute_result",
          "data": {
            "text/plain": [
              "3497.3333333333335"
            ]
          },
          "metadata": {},
          "execution_count": 127
        }
      ]
    },
    {
      "cell_type": "code",
      "source": [
        "classe_majoritaria = card[card['Class'] == 0]\n",
        "classe_minoritaria = card[card['Class'] == 1]\n",
        "\n",
        "subamostragem = resample(classe_majoritaria,\n",
        "                      replace=False,\n",
        "                      n_samples=int(card['Class'].count() / 3))\n",
        "\n",
        "subamostragem = pd.concat([subamostragem, classe_minoritaria])\n",
        "\n",
        "subamostragem['Class'].hist()"
      ],
      "metadata": {
        "colab": {
          "base_uri": "https://localhost:8080/",
          "height": 447
        },
        "id": "WJwsa5ufGP-D",
        "outputId": "d482ba5d-f434-4a5b-e2d4-d84acf068dbf"
      },
      "execution_count": 128,
      "outputs": [
        {
          "output_type": "execute_result",
          "data": {
            "text/plain": [
              "<Axes: >"
            ]
          },
          "metadata": {},
          "execution_count": 128
        },
        {
          "output_type": "display_data",
          "data": {
            "text/plain": [
              "<Figure size 640x480 with 1 Axes>"
            ],
            "image/png": "[encoded data removed]"
          },
          "metadata": {}
        }
      ]
    },
    {
      "cell_type": "code",
      "source": [
        "sampling_strategy_dict = {1: int(card['Class'].count() / 3)}\n",
        "\n",
        "imputer = RandomOverSampler(sampling_strategy= sampling_strategy_dict)\n",
        "X_resampled, y_resampled = imputer.fit_resample(X, y)\n",
        "\n",
        "superamostragem = pd.concat([X_resampled, y_resampled], axis=1)\n",
        "superamostragem['Class'].hist()\n"
      ],
      "metadata": {
        "colab": {
          "base_uri": "https://localhost:8080/",
          "height": 447
        },
        "id": "-6Rw4fHWHgH4",
        "outputId": "439fc5f9-bf6b-49af-ab50-185e100f1350"
      },
      "execution_count": 129,
      "outputs": [
        {
          "output_type": "execute_result",
          "data": {
            "text/plain": [
              "<Axes: >"
            ]
          },
          "metadata": {},
          "execution_count": 129
        },
        {
          "output_type": "display_data",
          "data": {
            "text/plain": [
              "<Figure size 640x480 with 1 Axes>"
            ],
            "image/png": "[encoded data removed]"
          },
          "metadata": {}
        }
      ]
    },
    {
      "cell_type": "code",
      "source": [
        "amostragem = subamostragem[subamostragem['Class'] == 0]\n",
        "aux = superamostragem = superamostragem[superamostragem['Class'] == 1]\n",
        "\n",
        "amostragem = pd.concat([amostragem, superamostragem], ignore_index=True)\n",
        "amostragem['Class'].hist()"
      ],
      "metadata": {
        "colab": {
          "base_uri": "https://localhost:8080/",
          "height": 447
        },
        "id": "CXX7wO2CKMOc",
        "outputId": "bd628ee3-e0e8-4b51-f546-1cd8e16cef02"
      },
      "execution_count": 130,
      "outputs": [
        {
          "output_type": "execute_result",
          "data": {
            "text/plain": [
              "<Axes: >"
            ]
          },
          "metadata": {},
          "execution_count": 130
        },
        {
          "output_type": "display_data",
          "data": {
            "text/plain": [
              "<Figure size 640x480 with 1 Axes>"
            ],
            "image/png": "[encoded data removed]"
          },
          "metadata": {}
        }
      ]
    }
  ]
}